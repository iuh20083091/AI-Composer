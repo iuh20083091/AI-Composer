{
  "nbformat": 4,
  "nbformat_minor": 0,
  "metadata": {
    "colab": {
      "provenance": [],
      "mount_file_id": "1E7hJ9y7-YbZGBwZktqMIaW0neWrJqgeM",
      "authorship_tag": "ABX9TyO0lrHhYKbRE8UYiCsu3e3L",
      "include_colab_link": true
    },
    "kernelspec": {
      "name": "python3",
      "display_name": "Python 3"
    },
    "language_info": {
      "name": "python"
    }
  },
  "cells": [
    {
      "cell_type": "markdown",
      "metadata": {
        "id": "view-in-github",
        "colab_type": "text"
      },
      "source": [
        "<a href=\"https://colab.research.google.com/github/iuh20083091/AI-Composer/blob/master/Preprocessing.ipynb\" target=\"_parent\"><img src=\"https://colab.research.google.com/assets/colab-badge.svg\" alt=\"Open In Colab\"/></a>"
      ]
    },
    {
      "cell_type": "markdown",
      "source": [
        "**Tiền xử lý dữ liệu**"
      ],
      "metadata": {
        "id": "iPuzmG8GmfgH"
      }
    },
    {
      "cell_type": "code",
      "execution_count": 1,
      "metadata": {
        "id": "m-My_aQZmaN0"
      },
      "outputs": [],
      "source": [
        "import re #Xoá các dòng comment /**/ trong file php\n",
        "import os #Chạy lấy toàn bộ file\n",
        "import math #Tính toán information entropy\n",
        "import pandas as pd #Thao tác tạo file csv theo cấu trúc\n",
        "import numpy as np\n",
        "from collections import Counter #Đếm số lượng từ xuất hiện trong file"
      ]
    },
    {
      "cell_type": "code",
      "source": [
        "def process(input_text):\n",
        "    # Sử dụng biểu thức chính quy để tìm và thay thế các đoạn comment\n",
        "    pattern = re.compile(r'/\\*.*?\\*/', re.DOTALL)\n",
        "    result = re.sub(pattern, '', input_text)\n",
        "\n",
        "    lines = result.split(\"\\n\")\n",
        "    # Xoá các dòng trắng\n",
        "    non_blank_lines = filter(lambda line: line.strip() != \"\", lines)\n",
        "    final = \"\\n\".join(non_blank_lines)\n",
        "    return final\n"
      ],
      "metadata": {
        "id": "XWM8mNfNA1d2"
      },
      "execution_count": 2,
      "outputs": []
    },
    {
      "cell_type": "code",
      "source": [
        "#  Tính entropy information của file\n",
        "def calculate_entropy(text):\n",
        "    # Tạo một từ điển đếm tần suất xuất hiện của từng ký tự trong văn bản\n",
        "    char_count = {}\n",
        "    total_chars = len(text)\n",
        "\n",
        "    for char in text:\n",
        "        char_count[char] = char_count.get(char, 0) + 1\n",
        "\n",
        "    # Tính toán entropy theo công thức\n",
        "    entropy = -sum((count/total_chars) * math.log2(count/total_chars) for count in char_count.values())\n",
        "\n",
        "    return round(entropy,3)"
      ],
      "metadata": {
        "id": "Z9-0ByBGClEJ"
      },
      "execution_count": 3,
      "outputs": []
    },
    {
      "cell_type": "code",
      "source": [
        "# Đếm số lượng các câu lệnh lặp trong file\n",
        "def cal_loop_ratio(code):\n",
        "    total_lines = code.split('\\n')\n",
        "\n",
        "    # Tính tỷ lệ\n",
        "    if len(total_lines) > 0:\n",
        "        pattern_for = re.compile(r'for[ ]*\\(')\n",
        "        pattern_foreach = re.compile(r'foreach[ ]*\\(')\n",
        "        pattern_elseif = re.compile(r'elseif')\n",
        "        ratio = list()\n",
        "        match_els = list()\n",
        "        match_for = list()\n",
        "        match_fore = list()\n",
        "\n",
        "        match_els = pattern_elseif.findall(code)\n",
        "        match_for = pattern_for.findall(code)\n",
        "        match_fore = pattern_foreach.findall(code)\n",
        "\n",
        "        for i in range(3):\n",
        "          ratio.append(round((len(match_els) / len(total_lines)), 3))\n",
        "          ratio.append(round((len(match_for) / len(total_lines)), 3))\n",
        "          ratio.append(round((len(match_fore) / len(total_lines)), 3))\n",
        "\n",
        "        return ratio\n",
        "    else:\n",
        "        return [0,0,0]"
      ],
      "metadata": {
        "id": "kbb154_qDSxF"
      },
      "execution_count": 4,
      "outputs": []
    },
    {
      "cell_type": "code",
      "source": [
        "# Đếm số lượng từ xuất hiện trong file\n",
        "def count_word(file, word_array):\n",
        "    count_list = list()\n",
        "    for word in word_array:\n",
        "      count_list.append(file.count(word))\n",
        "\n",
        "    return count_list;"
      ],
      "metadata": {
        "id": "j2QEw9kKqdkB"
      },
      "execution_count": 5,
      "outputs": []
    },
    {
      "cell_type": "code",
      "source": [
        "\n",
        "def extract_php_code(text):\n",
        "    pattern = re.compile(r'<\\?[php]?(.*?)\\?>', re.DOTALL)\n",
        "    result=\"\"\n",
        "    matches = pattern.findall(text)\n",
        "    for code_block in matches:\n",
        "        result += code_block.strip()\n",
        "\n",
        "    return result;\n"
      ],
      "metadata": {
        "id": "G7AGXUn5hldH"
      },
      "execution_count": 6,
      "outputs": []
    },
    {
      "cell_type": "code",
      "source": [
        "# Đếm số lượng các hàm nguy hiểm trong file\n",
        "def cal_mal_func(code, mal_func_arr):\n",
        "  temp = extract_php_code(code)\n",
        "  result = count_word(temp, mal_func_arr)\n",
        "  return sum(result)"
      ],
      "metadata": {
        "id": "EaZDsOODohQk"
      },
      "execution_count": 25,
      "outputs": []
    },
    {
      "cell_type": "code",
      "source": [
        "# Đếm số ký tự trên 1 dòng trong file\n",
        "def count_max_len_line(code):\n",
        "  total_lines = extract_php_code(code)\n",
        "  total_lines = total_lines.split('\\n')\n",
        "  max_len = max(total_lines, key=len)\n",
        "\n",
        "  return len(max_len)"
      ],
      "metadata": {
        "id": "oWUhE80DGvLp"
      },
      "execution_count": 8,
      "outputs": []
    },
    {
      "cell_type": "code",
      "source": [
        "# Tìm từ dài nhất\n",
        "def count_max_len_word(code):\n",
        "  words = code.split()\n",
        "  word_list = filter(filter_url, words)\n",
        "  max_word = max(word_list, key=len)\n",
        "\n",
        "  return len(max_word)"
      ],
      "metadata": {
        "id": "SIGLV2_NUJuw"
      },
      "execution_count": 9,
      "outputs": []
    },
    {
      "cell_type": "code",
      "source": [
        "def filter_url(input):\n",
        "  fil_value = 'http://'\n",
        "  if fil_value in input:\n",
        "    return False\n",
        "\n",
        "  return True;"
      ],
      "metadata": {
        "id": "5Lo1dsMyaw_R"
      },
      "execution_count": 10,
      "outputs": []
    },
    {
      "cell_type": "code",
      "source": [
        "def_arr = ['eval']\n",
        "faf_arr = ['wget', 'curl', 'lynx', 'get', 'fetch']\n",
        "rcf_arr = ['perl', 'python', 'gcc', 'chmod', 'nohup', 'nc']\n",
        "icf_arr = ['uname', 'id', 'ver', 'sysctl', 'whoami', '$OSTYPE', 'pwd']\n",
        "word = ['$_GET', '$_POST', '$_COOKIE', '$_REQUEST', '$_FILES', '$_SESSION']\n",
        "directory_path = './Webshell/'\n",
        "F1 = []\n",
        "F2 = []\n",
        "F3 = []\n",
        "F4 = []\n",
        "F5 = []\n",
        "F6 = []\n",
        "F7 = []\n",
        "F8 = []\n",
        "F9 = []\n",
        "F10 = []\n",
        "F11 = []\n",
        "F12 = []\n",
        "F13 = []\n",
        "F14 = []\n",
        "F15 = []\n",
        "F16 = []\n",
        "class_att = []"
      ],
      "metadata": {
        "id": "dBE0I7dV1oM_"
      },
      "execution_count": 26,
      "outputs": []
    },
    {
      "cell_type": "code",
      "source": [
        "# Kiểm tra xem đường dẫn đến thư mục có tồn tại không\n",
        "if os.path.exists(directory_path) and os.path.isdir(directory_path):\n",
        "    # Lặp qua tất cả các tệp trong thư mục\n",
        "    for file_name in os.listdir(directory_path):\n",
        "        file_path = os.path.join(directory_path, file_name)\n",
        "        # Kiểm tra xem đối tượng có phải là một tệp không\n",
        "        if os.path.isfile(file_path) and (file_name != '.ipynb_checkpoints'):\n",
        "            temp = list()\n",
        "            temp2 = list()\n",
        "            file_content = open(file_path, mode ='r', encoding='ISO-8859-1').read()\n",
        "\n",
        "            sample = process(file_content)\n",
        "            temp = count_word(sample, word)\n",
        "            temp2 = cal_loop_ratio(sample)\n",
        "            F10.append(cal_mal_func(sample, def_arr))\n",
        "            F11.append(cal_mal_func(sample, faf_arr))\n",
        "            F12.append(cal_mal_func(sample, rcf_arr))\n",
        "            F13.append(cal_mal_func(sample, icf_arr))\n",
        "            F14.append(count_max_len_word(sample))\n",
        "            F15.append(count_max_len_line(sample))\n",
        "            F16.append(calculate_entropy(sample))\n",
        "\n",
        "        # Gộp mảng lại\n",
        "        F1.append(temp[0])\n",
        "        F2.append(temp[1])\n",
        "        F3.append(temp[2])\n",
        "        F4.append(temp[3])\n",
        "        F5.append(temp[4])\n",
        "        F6.append(temp[5])\n",
        "        F7.append(temp2[0])\n",
        "        F8.append(temp2[1])\n",
        "        F9.append(temp2[2])\n",
        "\n",
        "\n",
        "\n"
      ],
      "metadata": {
        "id": "eGVsAfMvmesk"
      },
      "execution_count": 27,
      "outputs": []
    },
    {
      "cell_type": "code",
      "source": [
        "\n",
        "print('F1: ',F1)\n",
        "print('F2: ',F2)\n",
        "print('F3: ',F3)\n",
        "print('F4: ',F4)\n",
        "print('F5: ',F5)\n",
        "print('F6: ',F6)\n",
        "print('F7: ',F7)\n",
        "print('F8: ',F8)\n",
        "print('F9: ',F9)\n",
        "print('F10: ',F10)\n",
        "print('F11: ',F11)\n",
        "print('F12: ',F12)\n",
        "print('F13: ',F13)\n",
        "print('F14: ',F14)\n",
        "print('F15: ',F15)\n",
        "print('F16: ',F16)\n"
      ],
      "metadata": {
        "id": "-xSsSnyeUYvc",
        "colab": {
          "base_uri": "https://localhost:8080/"
        },
        "outputId": "c0336d15-8ba5-4bfc-8b29-67e952395c06"
      },
      "execution_count": 29,
      "outputs": [
        {
          "output_type": "stream",
          "name": "stdout",
          "text": [
            "F1:  [0, 0]\n",
            "F2:  [0, 0]\n",
            "F3:  [0, 0]\n",
            "F4:  [0, 2]\n",
            "F5:  [0, 0]\n",
            "F6:  [0, 0]\n",
            "F7:  [0.0, 0.0]\n",
            "F8:  [0.0, 0.0]\n",
            "F9:  [0.0, 0.0]\n",
            "F10:  [1, 0]\n",
            "F11:  [0, 0]\n",
            "F12:  [253, 0]\n",
            "F13:  [152, 0]\n",
            "F14:  [79, 28]\n",
            "F15:  [79, 34]\n",
            "F16:  [5.671, 5.013]\n"
          ]
        }
      ]
    },
    {
      "cell_type": "code",
      "source": [
        "def get_all_files():\n",
        "  directory_path = './Webshell/'\n",
        "  file_list = []\n",
        "  for file_name in os.listdir(directory_path):\n",
        "      file_path = os.path.join(directory_path, file_name)\n",
        "\n",
        "      # Kiểm tra xem đối tượng có phải là một tệp không\n",
        "      if os.path.isfile(file_path):\n",
        "        file_list.append(file_name)\n",
        "\n",
        "  return file_list"
      ],
      "metadata": {
        "id": "7QgMZWMMFD26"
      },
      "execution_count": 14,
      "outputs": []
    },
    {
      "cell_type": "code",
      "source": [
        "file_list = get_all_files()\n",
        "file_total = list()\n",
        "for sample in file_list:\n",
        "\n",
        "  file_total.append(sample)\n",
        "\n",
        "print(file_total)"
      ],
      "metadata": {
        "id": "HwcxfOmdDTzd",
        "colab": {
          "base_uri": "https://localhost:8080/"
        },
        "outputId": "3d01edf8-1177-4228-aa68-24f2b1f2123a"
      },
      "execution_count": 15,
      "outputs": [
        {
          "output_type": "stream",
          "name": "stdout",
          "text": [
            "['Simple_PHP_backdoor.php']\n"
          ]
        }
      ]
    },
    {
      "cell_type": "code",
      "source": [
        "class_att = [1] * len(F1)\n",
        "data = {\n",
        "    'GET': F1,\n",
        "    'POST': F2,\n",
        "    'COOKIE': F3,\n",
        "    'REQUEST': F4,\n",
        "    'FILES': F5,\n",
        "    'SESSION': F6,\n",
        "    'elseif': F7,\n",
        "    'for': F8,\n",
        "    'foreach': F9,\n",
        "    'DEF': F10,\n",
        "    'FAF': F11,\n",
        "    'RCF': F12,\n",
        "    'ICF': F13,\n",
        "    'maxWordLen': F14,\n",
        "    'maxLineLen': F15,\n",
        "    'entropy': F16,\n",
        "    'Type': class_att\n",
        "}\n",
        "\n",
        "df = pd.DataFrame(data)\n",
        "csv_file_path = \"dataset_webshell.csv\"\n",
        "df.to_csv(csv_file_path, index=False)\n",
        "print(f\"CSV file has been created at: {csv_file_path}\")"
      ],
      "metadata": {
        "colab": {
          "base_uri": "https://localhost:8080/"
        },
        "id": "IMgd_B5bdL9z",
        "outputId": "e4ea98b6-8185-45d7-8c6a-21fbf813cfeb"
      },
      "execution_count": 30,
      "outputs": [
        {
          "output_type": "stream",
          "name": "stdout",
          "text": [
            "CSV file has been created at: dataset_webshell.csv\n"
          ]
        }
      ]
    }
  ]
}